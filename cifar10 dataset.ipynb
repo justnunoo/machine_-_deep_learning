{
 "cells": [
  {
   "cell_type": "code",
   "execution_count": 1,
   "id": "7cb81673",
   "metadata": {},
   "outputs": [],
   "source": [
    "import tensorflow as tf\n",
    "import numpy as np\n",
    "import pandas as pd\n",
    "from tensorflow import keras\n",
    "from matplotlib import pyplot as plt\n"
   ]
  },
  {
   "cell_type": "code",
   "execution_count": 2,
   "id": "81ad41f2",
   "metadata": {},
   "outputs": [],
   "source": [
    "(x_train, y_train), (x_test, y_test) = keras.datasets.cifar10.load_data()"
   ]
  },
  {
   "cell_type": "code",
   "execution_count": 3,
   "id": "30976623",
   "metadata": {},
   "outputs": [
    {
     "data": {
      "text/plain": [
       "(50000, 32, 32, 3)"
      ]
     },
     "execution_count": 3,
     "metadata": {},
     "output_type": "execute_result"
    }
   ],
   "source": [
    "x_train.shape"
   ]
  },
  {
   "cell_type": "code",
   "execution_count": 4,
   "id": "8edd65ef",
   "metadata": {},
   "outputs": [],
   "source": [
    "%matplotlib inline\n",
    "def show_image(index):\n",
    "    plt.imshow(x_train[index])"
   ]
  },
  {
   "cell_type": "code",
   "execution_count": 7,
   "id": "bdbf2610",
   "metadata": {},
   "outputs": [
    {
     "data": {
      "image/png": "[encoded data removed]",
      "text/plain": [
       "<Figure size 640x480 with 1 Axes>"
      ]
     },
     "metadata": {},
     "output_type": "display_data"
    }
   ],
   "source": [
    "show_image()"
   ]
  },
  {
   "cell_type": "code",
   "execution_count": 4,
   "id": "c5d30dd6",
   "metadata": {},
   "outputs": [],
   "source": [
    "x_train_scaled = x_train/255\n",
    "x_test_scaled = x_test/255\n",
    "\n",
    "y_train = y_train.reshape(-1,)\n",
    "y_test = y_test.reshape(-1,)"
   ]
  },
  {
   "cell_type": "code",
   "execution_count": 12,
   "id": "2d15abaf",
   "metadata": {},
   "outputs": [],
   "source": [
    "model = keras.Sequential([\n",
    "    keras.layers.Flatten(input_shape=(32, 32, 3)),\n",
    "    keras.layers.Dense(1000, activation='relu'),\n",
    "    keras.layers.Dense(100, activation='relu'),\n",
    "    keras.layers.Dense(10, activation='softmax')\n",
    "]) \n",
    "\n",
    "model.compile(\n",
    "    optimizer='SGD',\n",
    "    loss='sparse_categorical_crossentropy',\n",
    "    metrics=['accuracy']\n",
    ")"
   ]
  },
  {
   "cell_type": "code",
   "execution_count": 13,
   "id": "09f3c9ae",
   "metadata": {},
   "outputs": [
    {
     "name": "stdout",
     "output_type": "stream",
     "text": [
      "Epoch 1/100\n",
      "1563/1563 [==============================] - 46s 28ms/step - loss: 1.8569 - accuracy: 0.3361\n",
      "Epoch 2/100\n",
      "1563/1563 [==============================] - 43s 27ms/step - loss: 1.6702 - accuracy: 0.4061\n",
      "Epoch 3/100\n",
      "1563/1563 [==============================] - 44s 28ms/step - loss: 1.5887 - accuracy: 0.4372\n",
      "Epoch 4/100\n",
      "1563/1563 [==============================] - 43s 28ms/step - loss: 1.5285 - accuracy: 0.4594\n",
      "Epoch 5/100\n",
      "1563/1563 [==============================] - 43s 27ms/step - loss: 1.4813 - accuracy: 0.4770\n",
      "Epoch 6/100\n",
      "1563/1563 [==============================] - 44s 28ms/step - loss: 1.4422 - accuracy: 0.4900\n",
      "Epoch 7/100\n",
      "1563/1563 [==============================] - 44s 28ms/step - loss: 1.4055 - accuracy: 0.5021\n",
      "Epoch 8/100\n",
      "1563/1563 [==============================] - 45s 29ms/step - loss: 1.3734 - accuracy: 0.5146\n",
      "Epoch 9/100\n",
      "1563/1563 [==============================] - 43s 28ms/step - loss: 1.3461 - accuracy: 0.5250\n",
      "Epoch 10/100\n",
      "1563/1563 [==============================] - 44s 28ms/step - loss: 1.3184 - accuracy: 0.5357\n",
      "Epoch 11/100\n",
      "1563/1563 [==============================] - 44s 28ms/step - loss: 1.2972 - accuracy: 0.5420\n",
      "Epoch 12/100\n",
      "1563/1563 [==============================] - 44s 28ms/step - loss: 1.2685 - accuracy: 0.5525\n",
      "Epoch 13/100\n",
      "1563/1563 [==============================] - 44s 28ms/step - loss: 1.2470 - accuracy: 0.5600\n",
      "Epoch 14/100\n",
      "1563/1563 [==============================] - 44s 28ms/step - loss: 1.2261 - accuracy: 0.5696\n",
      "Epoch 15/100\n",
      "1563/1563 [==============================] - 45s 29ms/step - loss: 1.2020 - accuracy: 0.5782\n",
      "Epoch 16/100\n",
      "1563/1563 [==============================] - 45s 29ms/step - loss: 1.1820 - accuracy: 0.5837\n",
      "Epoch 17/100\n",
      "1563/1563 [==============================] - 69s 44ms/step - loss: 1.1599 - accuracy: 0.5900\n",
      "Epoch 18/100\n",
      "1563/1563 [==============================] - 158s 101ms/step - loss: 1.1391 - accuracy: 0.5983\n",
      "Epoch 19/100\n",
      "1563/1563 [==============================] - 157s 101ms/step - loss: 1.1179 - accuracy: 0.6081\n",
      "Epoch 20/100\n",
      "1563/1563 [==============================] - 158s 101ms/step - loss: 1.0996 - accuracy: 0.6148\n",
      "Epoch 21/100\n",
      "1563/1563 [==============================] - 158s 101ms/step - loss: 1.0782 - accuracy: 0.6231\n",
      "Epoch 22/100\n",
      "1563/1563 [==============================] - 160s 102ms/step - loss: 1.0595 - accuracy: 0.6297\n",
      "Epoch 23/100\n",
      "1563/1563 [==============================] - 159s 102ms/step - loss: 1.0429 - accuracy: 0.6335\n",
      "Epoch 24/100\n",
      "1563/1563 [==============================] - 159s 101ms/step - loss: 1.0233 - accuracy: 0.6414\n",
      "Epoch 25/100\n",
      "1563/1563 [==============================] - 162s 103ms/step - loss: 1.0068 - accuracy: 0.6451\n",
      "Epoch 26/100\n",
      "1563/1563 [==============================] - 161s 103ms/step - loss: 0.9870 - accuracy: 0.6528\n",
      "Epoch 27/100\n",
      "1563/1563 [==============================] - 169s 108ms/step - loss: 0.9693 - accuracy: 0.6583\n",
      "Epoch 28/100\n",
      "1563/1563 [==============================] - 171s 110ms/step - loss: 0.9553 - accuracy: 0.6662\n",
      "Epoch 29/100\n",
      "1563/1563 [==============================] - 167s 107ms/step - loss: 0.9308 - accuracy: 0.6754\n",
      "Epoch 30/100\n",
      "1563/1563 [==============================] - 155s 99ms/step - loss: 0.9160 - accuracy: 0.6781\n",
      "Epoch 31/100\n",
      "1563/1563 [==============================] - 153s 98ms/step - loss: 0.8974 - accuracy: 0.6843\n",
      "Epoch 32/100\n",
      "1563/1563 [==============================] - 156s 100ms/step - loss: 0.8794 - accuracy: 0.6928\n",
      "Epoch 33/100\n",
      "1563/1563 [==============================] - 155s 99ms/step - loss: 0.8620 - accuracy: 0.6979\n",
      "Epoch 34/100\n",
      "1563/1563 [==============================] - 161s 103ms/step - loss: 0.8478 - accuracy: 0.7040\n",
      "Epoch 35/100\n",
      "1563/1563 [==============================] - 159s 102ms/step - loss: 0.8309 - accuracy: 0.7079\n",
      "Epoch 36/100\n",
      "1563/1563 [==============================] - 156s 100ms/step - loss: 0.8125 - accuracy: 0.7149\n",
      "Epoch 37/100\n",
      "1563/1563 [==============================] - 170s 109ms/step - loss: 0.7971 - accuracy: 0.7201\n",
      "Epoch 38/100\n",
      "1563/1563 [==============================] - 159s 102ms/step - loss: 0.7812 - accuracy: 0.7265\n",
      "Epoch 39/100\n",
      "1563/1563 [==============================] - 159s 102ms/step - loss: 0.7580 - accuracy: 0.7329\n",
      "Epoch 40/100\n",
      "1563/1563 [==============================] - 158s 101ms/step - loss: 0.7456 - accuracy: 0.7393\n",
      "Epoch 41/100\n",
      "1563/1563 [==============================] - 157s 100ms/step - loss: 0.7276 - accuracy: 0.7453\n",
      "Epoch 42/100\n",
      "1563/1563 [==============================] - 155s 99ms/step - loss: 0.7109 - accuracy: 0.7523\n",
      "Epoch 43/100\n",
      "1563/1563 [==============================] - 157s 100ms/step - loss: 0.6937 - accuracy: 0.7599\n",
      "Epoch 44/100\n",
      "1563/1563 [==============================] - 168s 108ms/step - loss: 0.6814 - accuracy: 0.7614\n",
      "Epoch 45/100\n",
      "1563/1563 [==============================] - 172s 110ms/step - loss: 0.6660 - accuracy: 0.7684\n",
      "Epoch 46/100\n",
      "1563/1563 [==============================] - 170s 109ms/step - loss: 0.6472 - accuracy: 0.7740\n",
      "Epoch 47/100\n",
      "1563/1563 [==============================] - 169s 108ms/step - loss: 0.6348 - accuracy: 0.7776\n",
      "Epoch 48/100\n",
      "1563/1563 [==============================] - 187s 120ms/step - loss: 0.6184 - accuracy: 0.7836\n",
      "Epoch 49/100\n",
      "1563/1563 [==============================] - 161s 103ms/step - loss: 0.6061 - accuracy: 0.7882\n",
      "Epoch 50/100\n",
      "1563/1563 [==============================] - 163s 104ms/step - loss: 0.5880 - accuracy: 0.7946\n",
      "Epoch 51/100\n",
      "1563/1563 [==============================] - 168s 108ms/step - loss: 0.5761 - accuracy: 0.7984\n",
      "Epoch 52/100\n",
      "1563/1563 [==============================] - 170s 109ms/step - loss: 0.5606 - accuracy: 0.8058\n",
      "Epoch 53/100\n",
      "1563/1563 [==============================] - 169s 108ms/step - loss: 0.5469 - accuracy: 0.8110\n",
      "Epoch 54/100\n",
      "1563/1563 [==============================] - 172s 110ms/step - loss: 0.5358 - accuracy: 0.8127\n",
      "Epoch 55/100\n",
      "1563/1563 [==============================] - 163s 104ms/step - loss: 0.5172 - accuracy: 0.8210\n",
      "Epoch 56/100\n",
      "1563/1563 [==============================] - 154s 99ms/step - loss: 0.5070 - accuracy: 0.8249\n",
      "Epoch 57/100\n",
      "1563/1563 [==============================] - 156s 100ms/step - loss: 0.4910 - accuracy: 0.8314\n",
      "Epoch 58/100\n",
      "1563/1563 [==============================] - 163s 104ms/step - loss: 0.4798 - accuracy: 0.8352\n",
      "Epoch 59/100\n",
      "1563/1563 [==============================] - 155s 99ms/step - loss: 0.4685 - accuracy: 0.8373\n",
      "Epoch 60/100\n",
      "1563/1563 [==============================] - 155s 99ms/step - loss: 0.4538 - accuracy: 0.8428\n",
      "Epoch 61/100\n",
      "1563/1563 [==============================] - 158s 101ms/step - loss: 0.4413 - accuracy: 0.8475\n",
      "Epoch 62/100\n",
      "1563/1563 [==============================] - 160s 102ms/step - loss: 0.4390 - accuracy: 0.8473\n",
      "Epoch 63/100\n",
      "1563/1563 [==============================] - 153s 98ms/step - loss: 0.4195 - accuracy: 0.8569\n",
      "Epoch 64/100\n",
      "1563/1563 [==============================] - 109s 70ms/step - loss: 0.4058 - accuracy: 0.8612\n",
      "Epoch 65/100\n",
      "1563/1563 [==============================] - 48s 31ms/step - loss: 0.3953 - accuracy: 0.8644\n",
      "Epoch 66/100\n",
      "1563/1563 [==============================] - 45s 29ms/step - loss: 0.3880 - accuracy: 0.8677\n",
      "Epoch 67/100\n",
      "1563/1563 [==============================] - 45s 29ms/step - loss: 0.3694 - accuracy: 0.8750\n",
      "Epoch 68/100\n",
      "1563/1563 [==============================] - 46s 29ms/step - loss: 0.3647 - accuracy: 0.8743\n",
      "Epoch 69/100\n",
      "1563/1563 [==============================] - 45s 29ms/step - loss: 0.3533 - accuracy: 0.8801\n",
      "Epoch 70/100\n",
      "1563/1563 [==============================] - 44s 28ms/step - loss: 0.3415 - accuracy: 0.8851\n",
      "Epoch 71/100\n",
      "1563/1563 [==============================] - 43s 28ms/step - loss: 0.3336 - accuracy: 0.8884\n",
      "Epoch 72/100\n",
      "1563/1563 [==============================] - 43s 28ms/step - loss: 0.3311 - accuracy: 0.8875\n",
      "Epoch 73/100\n",
      "1563/1563 [==============================] - 43s 28ms/step - loss: 0.3176 - accuracy: 0.8920\n",
      "Epoch 74/100\n",
      "1563/1563 [==============================] - 44s 28ms/step - loss: 0.3084 - accuracy: 0.8951\n",
      "Epoch 75/100\n",
      "1563/1563 [==============================] - 44s 28ms/step - loss: 0.2959 - accuracy: 0.8996\n",
      "Epoch 76/100\n",
      "1563/1563 [==============================] - 44s 28ms/step - loss: 0.2876 - accuracy: 0.9031\n",
      "Epoch 77/100\n",
      "1563/1563 [==============================] - 40s 26ms/step - loss: 0.2791 - accuracy: 0.9069\n",
      "Epoch 78/100\n",
      "1563/1563 [==============================] - 40s 26ms/step - loss: 0.2695 - accuracy: 0.9093\n",
      "Epoch 79/100\n",
      "1563/1563 [==============================] - 40s 26ms/step - loss: 0.2579 - accuracy: 0.9150\n",
      "Epoch 80/100\n",
      "1563/1563 [==============================] - 39s 25ms/step - loss: 0.2619 - accuracy: 0.9118\n",
      "Epoch 81/100\n",
      "1563/1563 [==============================] - 39s 25ms/step - loss: 0.2509 - accuracy: 0.9152\n",
      "Epoch 82/100\n",
      "1563/1563 [==============================] - 42s 27ms/step - loss: 0.2380 - accuracy: 0.9206\n",
      "Epoch 83/100\n",
      "1563/1563 [==============================] - 58s 37ms/step - loss: 0.2348 - accuracy: 0.9213\n",
      "Epoch 84/100\n",
      "1563/1563 [==============================] - 64s 41ms/step - loss: 0.2241 - accuracy: 0.9255\n",
      "Epoch 85/100\n",
      "1563/1563 [==============================] - 55s 35ms/step - loss: 0.2172 - accuracy: 0.9286\n",
      "Epoch 86/100\n",
      "1563/1563 [==============================] - 54s 35ms/step - loss: 0.2102 - accuracy: 0.9302\n",
      "Epoch 87/100\n",
      "1563/1563 [==============================] - 60s 38ms/step - loss: 0.2076 - accuracy: 0.9313\n",
      "Epoch 88/100\n",
      "1563/1563 [==============================] - 54s 34ms/step - loss: 0.1976 - accuracy: 0.9355\n",
      "Epoch 89/100\n",
      "1563/1563 [==============================] - 57s 36ms/step - loss: 0.1871 - accuracy: 0.9397\n",
      "Epoch 90/100\n",
      "1563/1563 [==============================] - 55s 35ms/step - loss: 0.1902 - accuracy: 0.9382\n",
      "Epoch 91/100\n",
      "1563/1563 [==============================] - 57s 36ms/step - loss: 0.1758 - accuracy: 0.9430\n",
      "Epoch 92/100\n",
      "1563/1563 [==============================] - 52s 33ms/step - loss: 0.1777 - accuracy: 0.9427\n",
      "Epoch 93/100\n",
      "1563/1563 [==============================] - 65s 41ms/step - loss: 0.1594 - accuracy: 0.9501\n",
      "Epoch 94/100\n",
      "1563/1563 [==============================] - 62s 40ms/step - loss: 0.1594 - accuracy: 0.9494\n",
      "Epoch 95/100\n",
      "1563/1563 [==============================] - 63s 40ms/step - loss: 0.1600 - accuracy: 0.9479\n",
      "Epoch 96/100\n",
      "1563/1563 [==============================] - 65s 41ms/step - loss: 0.1636 - accuracy: 0.9473\n",
      "Epoch 97/100\n",
      "1563/1563 [==============================] - 67s 43ms/step - loss: 0.1407 - accuracy: 0.9560\n",
      "Epoch 98/100\n",
      "1563/1563 [==============================] - 62s 40ms/step - loss: 0.1455 - accuracy: 0.9530\n",
      "Epoch 99/100\n",
      "1563/1563 [==============================] - 62s 39ms/step - loss: 0.1388 - accuracy: 0.9549\n",
      "Epoch 100/100\n",
      "1563/1563 [==============================] - 67s 43ms/step - loss: 0.1408 - accuracy: 0.9547\n"
     ]
    },
    {
     "data": {
      "text/plain": [
       "<keras.src.callbacks.History at 0x187251936a0>"
      ]
     },
     "execution_count": 13,
     "metadata": {},
     "output_type": "execute_result"
    }
   ],
   "source": [
    "model.fit(x_train_scaled, y_train, epochs=100)"
   ]
  },
  {
   "cell_type": "code",
   "execution_count": 14,
   "id": "e8ea4878",
   "metadata": {},
   "outputs": [
    {
     "name": "stdout",
     "output_type": "stream",
     "text": [
      "313/313 [==============================] - 5s 13ms/step - loss: 3.2153 - accuracy: 0.4805\n"
     ]
    },
    {
     "data": {
      "text/plain": [
       "[3.2152533531188965, 0.4805000126361847]"
      ]
     },
     "execution_count": 14,
     "metadata": {},
     "output_type": "execute_result"
    }
   ],
   "source": [
    "model.evaluate(x_test_scaled, y_test)"
   ]
  },
  {
   "cell_type": "code",
   "execution_count": 21,
   "id": "80b4d353",
   "metadata": {},
   "outputs": [
    {
     "name": "stdout",
     "output_type": "stream",
     "text": [
      "313/313 [==============================] - 18s 56ms/step\n"
     ]
    }
   ],
   "source": [
    "y_pred = model.predict(x_test_scaled)"
   ]
  },
  {
   "cell_type": "code",
   "execution_count": 22,
   "id": "9f964e99",
   "metadata": {},
   "outputs": [
    {
     "data": {
      "text/plain": [
       "8"
      ]
     },
     "execution_count": 22,
     "metadata": {},
     "output_type": "execute_result"
    }
   ],
   "source": [
    "np.argmax(y_pred[1])"
   ]
  },
  {
   "cell_type": "code",
   "execution_count": 24,
   "id": "6096b053",
   "metadata": {},
   "outputs": [
    {
     "data": {
      "text/plain": [
       "<matplotlib.image.AxesImage at 0x1872d967190>"
      ]
     },
     "execution_count": 24,
     "metadata": {},
     "output_type": "execute_result"
    },
    {
     "data": {
      "image/png": "[encoded data removed]",
      "text/plain": [
       "<Figure size 640x480 with 1 Axes>"
      ]
     },
     "metadata": {},
     "output_type": "display_data"
    }
   ],
   "source": [
    "plt.imshow(x_test[1])"
   ]
  },
  {
   "cell_type": "code",
   "execution_count": 11,
   "id": "5c3d0011",
   "metadata": {},
   "outputs": [],
   "source": [
    "cnn_model = keras.Sequential([\n",
    "    keras.layers.Conv2D(filters=40, kernel_size=(3,3), activation='relu', input_shape = (32,32, 3)),\n",
    "    keras.layers.MaxPool2D((2,2)),\n",
    "    keras.layers.Conv2D(filters=40, kernel_size=(3,3), activation='relu'),\n",
    "    keras.layers.MaxPool2D((2,2)),\n",
    "    \n",
    "    keras.layers.Flatten(),\n",
    "    keras.layers.Dense(100, activation='relu'),\n",
    "    keras.layers.Dense(10, activation='softmax')\n",
    "])\n",
    "\n",
    "cnn_model.compile(\n",
    "    optimizer='SGD',\n",
    "    loss='sparse_categorical_crossentropy',\n",
    "    metrics=['accuracy']\n",
    ")"
   ]
  },
  {
   "cell_type": "code",
   "execution_count": 12,
   "id": "460e9cb4",
   "metadata": {},
   "outputs": [
    {
     "name": "stdout",
     "output_type": "stream",
     "text": [
      "Epoch 1/100\n",
      "1563/1563 [==============================] - 74s 46ms/step - loss: 1.9775 - accuracy: 0.2817\n",
      "Epoch 2/100\n",
      "1563/1563 [==============================] - 71s 45ms/step - loss: 1.5947 - accuracy: 0.4268\n",
      "Epoch 3/100\n",
      "1563/1563 [==============================] - 71s 45ms/step - loss: 1.4147 - accuracy: 0.4944\n",
      "Epoch 4/100\n",
      "1563/1563 [==============================] - 72s 46ms/step - loss: 1.3072 - accuracy: 0.5334\n",
      "Epoch 5/100\n",
      "1563/1563 [==============================] - 73s 47ms/step - loss: 1.2279 - accuracy: 0.5671\n",
      "Epoch 6/100\n",
      "1563/1563 [==============================] - 79s 50ms/step - loss: 1.1612 - accuracy: 0.5934\n",
      "Epoch 7/100\n",
      "1563/1563 [==============================] - 75s 48ms/step - loss: 1.1053 - accuracy: 0.6118\n",
      "Epoch 8/100\n",
      "1563/1563 [==============================] - 76s 48ms/step - loss: 1.0535 - accuracy: 0.6313\n",
      "Epoch 9/100\n",
      "1563/1563 [==============================] - 72s 46ms/step - loss: 1.0099 - accuracy: 0.6465\n",
      "Epoch 10/100\n",
      "1563/1563 [==============================] - 71s 45ms/step - loss: 0.9710 - accuracy: 0.6610\n",
      "Epoch 11/100\n",
      "1563/1563 [==============================] - 72s 46ms/step - loss: 0.9352 - accuracy: 0.6742\n",
      "Epoch 12/100\n",
      "1563/1563 [==============================] - 72s 46ms/step - loss: 0.9022 - accuracy: 0.6853\n",
      "Epoch 13/100\n",
      "1563/1563 [==============================] - 75s 48ms/step - loss: 0.8722 - accuracy: 0.6962\n",
      "Epoch 14/100\n",
      "1563/1563 [==============================] - 71s 46ms/step - loss: 0.8446 - accuracy: 0.7060\n",
      "Epoch 15/100\n",
      "1563/1563 [==============================] - 72s 46ms/step - loss: 0.8170 - accuracy: 0.7167\n",
      "Epoch 16/100\n",
      "1563/1563 [==============================] - 74s 47ms/step - loss: 0.7909 - accuracy: 0.7246\n",
      "Epoch 17/100\n",
      "1563/1563 [==============================] - 74s 47ms/step - loss: 0.7670 - accuracy: 0.7346\n",
      "Epoch 18/100\n",
      "1563/1563 [==============================] - 73s 46ms/step - loss: 0.7420 - accuracy: 0.7437\n",
      "Epoch 19/100\n",
      "1563/1563 [==============================] - 73s 46ms/step - loss: 0.7166 - accuracy: 0.7527\n",
      "Epoch 20/100\n",
      "1563/1563 [==============================] - 75s 48ms/step - loss: 0.6944 - accuracy: 0.7591\n",
      "Epoch 21/100\n",
      "1563/1563 [==============================] - 74s 47ms/step - loss: 0.6719 - accuracy: 0.7668\n",
      "Epoch 22/100\n",
      "1563/1563 [==============================] - 74s 47ms/step - loss: 0.6481 - accuracy: 0.7746\n",
      "Epoch 23/100\n",
      "1563/1563 [==============================] - 74s 47ms/step - loss: 0.6264 - accuracy: 0.7812\n",
      "Epoch 24/100\n",
      "1563/1563 [==============================] - 78s 50ms/step - loss: 0.6065 - accuracy: 0.7897\n",
      "Epoch 25/100\n",
      "1563/1563 [==============================] - 78s 50ms/step - loss: 0.5831 - accuracy: 0.7968\n",
      "Epoch 26/100\n",
      "1563/1563 [==============================] - 76s 49ms/step - loss: 0.5631 - accuracy: 0.8049\n",
      "Epoch 27/100\n",
      "1563/1563 [==============================] - 75s 48ms/step - loss: 0.5416 - accuracy: 0.8138\n",
      "Epoch 28/100\n",
      "1563/1563 [==============================] - 77s 49ms/step - loss: 0.5229 - accuracy: 0.8199\n",
      "Epoch 29/100\n",
      "1563/1563 [==============================] - 227s 145ms/step - loss: 0.5016 - accuracy: 0.8276\n",
      "Epoch 30/100\n",
      "1563/1563 [==============================] - 291s 186ms/step - loss: 0.4819 - accuracy: 0.8319\n",
      "Epoch 31/100\n",
      "1563/1563 [==============================] - 288s 185ms/step - loss: 0.4633 - accuracy: 0.8391\n",
      "Epoch 32/100\n",
      "1563/1563 [==============================] - 288s 184ms/step - loss: 0.4427 - accuracy: 0.8470\n",
      "Epoch 33/100\n",
      "1563/1563 [==============================] - 287s 183ms/step - loss: 0.4233 - accuracy: 0.8542\n",
      "Epoch 34/100\n",
      "1563/1563 [==============================] - 290s 186ms/step - loss: 0.4037 - accuracy: 0.8608\n",
      "Epoch 35/100\n",
      "1563/1563 [==============================] - 288s 184ms/step - loss: 0.3845 - accuracy: 0.8671\n",
      "Epoch 36/100\n",
      "1563/1563 [==============================] - 307s 197ms/step - loss: 0.3692 - accuracy: 0.8731\n",
      "Epoch 37/100\n",
      "1563/1563 [==============================] - 318s 204ms/step - loss: 0.3507 - accuracy: 0.8778\n",
      "Epoch 38/100\n",
      "1563/1563 [==============================] - 303s 194ms/step - loss: 0.3335 - accuracy: 0.8855\n",
      "Epoch 39/100\n",
      "1563/1563 [==============================] - 290s 185ms/step - loss: 0.3148 - accuracy: 0.8917\n",
      "Epoch 40/100\n",
      "1563/1563 [==============================] - 288s 184ms/step - loss: 0.2987 - accuracy: 0.8983\n",
      "Epoch 41/100\n",
      "1563/1563 [==============================] - 291s 187ms/step - loss: 0.2814 - accuracy: 0.9035\n",
      "Epoch 42/100\n",
      "1563/1563 [==============================] - 3700s 2s/step - loss: 0.2654 - accuracy: 0.9102\n",
      "Epoch 43/100\n",
      "1563/1563 [==============================] - 296s 189ms/step - loss: 0.2478 - accuracy: 0.9152\n",
      "Epoch 44/100\n",
      "1563/1563 [==============================] - 290s 186ms/step - loss: 0.2328 - accuracy: 0.9202\n",
      "Epoch 45/100\n",
      "1563/1563 [==============================] - 250s 160ms/step - loss: 0.2174 - accuracy: 0.9279\n",
      "Epoch 46/100\n",
      "1563/1563 [==============================] - 80s 51ms/step - loss: 0.2031 - accuracy: 0.9322\n",
      "Epoch 47/100\n",
      "1563/1563 [==============================] - 76s 49ms/step - loss: 0.1916 - accuracy: 0.9358\n",
      "Epoch 48/100\n",
      "1563/1563 [==============================] - 74s 47ms/step - loss: 0.1745 - accuracy: 0.9438\n",
      "Epoch 49/100\n",
      "1563/1563 [==============================] - 75s 48ms/step - loss: 0.1614 - accuracy: 0.9477\n",
      "Epoch 50/100\n",
      "1563/1563 [==============================] - 75s 48ms/step - loss: 0.1492 - accuracy: 0.9516\n",
      "Epoch 51/100\n",
      "1563/1563 [==============================] - 76s 48ms/step - loss: 0.1366 - accuracy: 0.9576\n",
      "Epoch 52/100\n",
      "1563/1563 [==============================] - 80s 51ms/step - loss: 0.1252 - accuracy: 0.9605\n",
      "Epoch 53/100\n",
      "1563/1563 [==============================] - 74s 48ms/step - loss: 0.1175 - accuracy: 0.9624\n",
      "Epoch 54/100\n",
      "1563/1563 [==============================] - 74s 47ms/step - loss: 0.1023 - accuracy: 0.9691\n",
      "Epoch 55/100\n",
      "1563/1563 [==============================] - 73s 47ms/step - loss: 0.0919 - accuracy: 0.9732\n",
      "Epoch 56/100\n",
      "1563/1563 [==============================] - 75s 48ms/step - loss: 0.0859 - accuracy: 0.9753\n",
      "Epoch 57/100\n",
      "1563/1563 [==============================] - 75s 48ms/step - loss: 0.0777 - accuracy: 0.9786\n",
      "Epoch 58/100\n",
      "1563/1563 [==============================] - 73s 47ms/step - loss: 0.0698 - accuracy: 0.9817\n",
      "Epoch 59/100\n",
      "1563/1563 [==============================] - 73s 47ms/step - loss: 0.0592 - accuracy: 0.9849\n",
      "Epoch 60/100\n",
      "1563/1563 [==============================] - 73s 47ms/step - loss: 0.0504 - accuracy: 0.9883\n",
      "Epoch 61/100\n",
      "1563/1563 [==============================] - 72s 46ms/step - loss: 0.0394 - accuracy: 0.9929\n",
      "Epoch 62/100\n",
      "1563/1563 [==============================] - 73s 47ms/step - loss: 0.0328 - accuracy: 0.9949\n",
      "Epoch 63/100\n",
      "1563/1563 [==============================] - 73s 47ms/step - loss: 0.0227 - accuracy: 0.9982\n",
      "Epoch 64/100\n",
      "1563/1563 [==============================] - 73s 47ms/step - loss: 0.0171 - accuracy: 0.9990\n",
      "Epoch 65/100\n",
      "1563/1563 [==============================] - 76s 49ms/step - loss: 0.0142 - accuracy: 0.9995\n",
      "Epoch 66/100\n",
      "1563/1563 [==============================] - 83s 53ms/step - loss: 0.0117 - accuracy: 0.9996\n",
      "Epoch 67/100\n",
      "1563/1563 [==============================] - 87s 56ms/step - loss: 0.0099 - accuracy: 0.9999\n",
      "Epoch 68/100\n",
      "1563/1563 [==============================] - 89s 57ms/step - loss: 0.0090 - accuracy: 0.9998\n",
      "Epoch 69/100\n",
      "1563/1563 [==============================] - 80s 51ms/step - loss: 0.0080 - accuracy: 0.9999\n",
      "Epoch 70/100\n",
      "1563/1563 [==============================] - 76s 49ms/step - loss: 0.0073 - accuracy: 0.9999\n",
      "Epoch 71/100\n",
      "1563/1563 [==============================] - 77s 49ms/step - loss: 0.0066 - accuracy: 0.9999\n",
      "Epoch 72/100\n",
      "1563/1563 [==============================] - 74s 48ms/step - loss: 0.0060 - accuracy: 0.9999\n",
      "Epoch 73/100\n",
      "1563/1563 [==============================] - 74s 47ms/step - loss: 0.0055 - accuracy: 1.0000\n",
      "Epoch 74/100\n",
      "1563/1563 [==============================] - 74s 47ms/step - loss: 0.0052 - accuracy: 1.0000\n",
      "Epoch 75/100\n",
      "1563/1563 [==============================] - 76s 48ms/step - loss: 0.0048 - accuracy: 1.0000\n",
      "Epoch 76/100\n",
      "1563/1563 [==============================] - 73s 47ms/step - loss: 0.0045 - accuracy: 1.0000\n",
      "Epoch 77/100\n",
      "1563/1563 [==============================] - 73s 47ms/step - loss: 0.0043 - accuracy: 1.0000\n",
      "Epoch 78/100\n"
     ]
    },
    {
     "name": "stdout",
     "output_type": "stream",
     "text": [
      "1563/1563 [==============================] - 68s 44ms/step - loss: 0.0040 - accuracy: 1.0000\n",
      "Epoch 79/100\n",
      "1563/1563 [==============================] - 68s 44ms/step - loss: 0.0039 - accuracy: 1.0000\n",
      "Epoch 80/100\n",
      "1563/1563 [==============================] - 79s 50ms/step - loss: 0.0037 - accuracy: 1.0000\n",
      "Epoch 81/100\n",
      "1563/1563 [==============================] - 78s 50ms/step - loss: 0.0035 - accuracy: 1.0000\n",
      "Epoch 82/100\n",
      "1563/1563 [==============================] - 69s 44ms/step - loss: 0.0033 - accuracy: 1.0000\n",
      "Epoch 83/100\n",
      "1563/1563 [==============================] - 75s 48ms/step - loss: 0.0032 - accuracy: 1.0000\n",
      "Epoch 84/100\n",
      "1563/1563 [==============================] - 69s 44ms/step - loss: 0.0032 - accuracy: 1.0000\n",
      "Epoch 85/100\n",
      "1563/1563 [==============================] - 77s 49ms/step - loss: 0.0030 - accuracy: 1.0000\n",
      "Epoch 86/100\n",
      "1563/1563 [==============================] - 75s 48ms/step - loss: 0.0028 - accuracy: 1.0000\n",
      "Epoch 87/100\n",
      "1563/1563 [==============================] - 81s 52ms/step - loss: 0.0027 - accuracy: 1.0000\n",
      "Epoch 88/100\n",
      "1563/1563 [==============================] - 87s 56ms/step - loss: 0.0026 - accuracy: 1.0000\n",
      "Epoch 89/100\n",
      "1563/1563 [==============================] - 88s 56ms/step - loss: 0.0025 - accuracy: 1.0000\n",
      "Epoch 90/100\n",
      "1563/1563 [==============================] - 89s 57ms/step - loss: 0.0024 - accuracy: 1.0000\n",
      "Epoch 91/100\n",
      "1563/1563 [==============================] - 89s 57ms/step - loss: 0.0023 - accuracy: 1.0000\n",
      "Epoch 92/100\n",
      "1563/1563 [==============================] - 81s 52ms/step - loss: 0.0024 - accuracy: 0.9999\n",
      "Epoch 93/100\n",
      "1563/1563 [==============================] - 68s 44ms/step - loss: 0.0022 - accuracy: 1.0000\n",
      "Epoch 94/100\n",
      "1563/1563 [==============================] - 67s 43ms/step - loss: 0.0021 - accuracy: 1.0000\n",
      "Epoch 95/100\n",
      "1563/1563 [==============================] - 64s 41ms/step - loss: 0.0021 - accuracy: 1.0000\n",
      "Epoch 96/100\n",
      "1563/1563 [==============================] - 151s 97ms/step - loss: 0.0020 - accuracy: 1.0000\n",
      "Epoch 97/100\n",
      "1563/1563 [==============================] - 85s 54ms/step - loss: 0.0019 - accuracy: 1.0000\n",
      "Epoch 98/100\n",
      "1563/1563 [==============================] - 73s 47ms/step - loss: 0.0019 - accuracy: 1.0000\n",
      "Epoch 99/100\n",
      "1563/1563 [==============================] - 76s 49ms/step - loss: 0.0018 - accuracy: 1.0000\n",
      "Epoch 100/100\n",
      "1563/1563 [==============================] - 73s 47ms/step - loss: 0.0018 - accuracy: 1.0000\n"
     ]
    },
    {
     "data": {
      "text/plain": [
       "<keras.src.callbacks.History at 0x1dc705ca890>"
      ]
     },
     "execution_count": 12,
     "metadata": {},
     "output_type": "execute_result"
    }
   ],
   "source": [
    "cnn_model.fit(x_train_scaled, y_train, epochs=100)"
   ]
  },
  {
   "cell_type": "code",
   "execution_count": 13,
   "id": "4cbde9d3",
   "metadata": {},
   "outputs": [
    {
     "name": "stdout",
     "output_type": "stream",
     "text": [
      "313/313 [==============================] - 7s 18ms/step - loss: 1151.2377 - accuracy: 0.5422\n"
     ]
    },
    {
     "data": {
      "text/plain": [
       "[1151.2376708984375, 0.5422000288963318]"
      ]
     },
     "execution_count": 13,
     "metadata": {},
     "output_type": "execute_result"
    }
   ],
   "source": [
    "cnn_model.evaluate(x_test, y_test)"
   ]
  },
  {
   "cell_type": "code",
   "execution_count": null,
   "id": "2d610189",
   "metadata": {},
   "outputs": [],
   "source": []
  }
 ],
 "metadata": {
  "kernelspec": {
   "display_name": "Python 3 (ipykernel)",
   "language": "python",
   "name": "python3"
  },
  "language_info": {
   "codemirror_mode": {
    "name": "ipython",
    "version": 3
   },
   "file_extension": ".py",
   "mimetype": "text/x-python",
   "name": "python",
   "nbconvert_exporter": "python",
   "pygments_lexer": "ipython3",
   "version": "3.10.9"
  }
 },
 "nbformat": 4,
 "nbformat_minor": 5
}
